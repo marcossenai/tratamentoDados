{
 "cells": [
  {
   "cell_type": "code",
   "execution_count": null,
   "metadata": {},
   "outputs": [],
   "source": [
    "import pandas as pd\n",
    "\n",
    "df = pd.read_excel('dadosAusentes.xlsx')\n",
    "print(df)"
   ]
  },
  {
   "cell_type": "code",
   "execution_count": null,
   "metadata": {},
   "outputs": [],
   "source": [
    "#corrigir errros de formatação (maiusculo, minusculo)\n",
    "df['Cidade'] = df['Cidade'].str.title()\n",
    "df['nome'] = df['Nome'].str.capitalize()\n",
    "\n",
    "print(df)"
   ]
  },
  {
   "cell_type": "code",
   "execution_count": null,
   "metadata": {},
   "outputs": [],
   "source": [
    "#Substituir de valores categóricos: sao paulo, sp, rj\n",
    "df['Cidade'].str.lower().replace({'são paulo': \"SP\", 'rio de janeiro': 'RJ', 'rj': 'RJ'})\n",
    "print(df)"
   ]
  },
  {
   "cell_type": "code",
   "execution_count": null,
   "metadata": {},
   "outputs": [],
   "source": [
    "#Identificar os tipos de dados das colunas\n",
    "coluna_string = df.select_dtypes(include=['string', 'object']).columns.tolist()\n",
    "print(coluna_string)"
   ]
  },
  {
   "cell_type": "code",
   "execution_count": null,
   "metadata": {},
   "outputs": [],
   "source": [
    "#Identificar os tipos de dados das colunas de float\n",
    "coluna_float = df.select_dtypes(include=['float']).columns.tolist()\n",
    "print(coluna_float)"
   ]
  },
  {
   "cell_type": "code",
   "execution_count": null,
   "metadata": {},
   "outputs": [],
   "source": [
    "#Substituir as idades ausentes plea média\n",
    "df['Idade'].fillna(df['Idade'].mean(), inplace=True)\n",
    "print(df)"
   ]
  },
  {
   "cell_type": "code",
   "execution_count": null,
   "metadata": {},
   "outputs": [],
   "source": [
    "#Converter os dados para int\n",
    "df['Idade'] = df['Idade'].astype(int)\n",
    "print(df)"
   ]
  },
  {
   "cell_type": "code",
   "execution_count": null,
   "metadata": {},
   "outputs": [],
   "source": [
    "# #Pega o valor de cima\n",
    "# df['Idade'] = df['Idade'].ffill\n",
    "\n",
    "# #Pega o valor de baixo\n",
    "# df['Idade'] = df['Idade'].bfill\n",
    "# display(df)"
   ]
  },
  {
   "cell_type": "code",
   "execution_count": null,
   "metadata": {},
   "outputs": [],
   "source": [
    "# #Criar uma nova coluna: Faixa Etária\n",
    "df['Faixa Etária'] = pd.cut(df['Idade'], bins=[0, 18, 30, 50, 100], labels=['Jovem', 'Adulto', 'Meia-idade', 'Idoso'])\n",
    "print(df)\n",
    "\n"
   ]
  },
  {
   "cell_type": "code",
   "execution_count": null,
   "metadata": {},
   "outputs": [],
   "source": [
    "#Remover duplicatas\n",
    "df = df.drop_duplicates(subset=['Nome'])\n",
    "display(df)"
   ]
  }
 ],
 "metadata": {
  "kernelspec": {
   "display_name": "Python 3",
   "language": "python",
   "name": "python3"
  },
  "language_info": {
   "codemirror_mode": {
    "name": "ipython",
    "version": 3
   },
   "file_extension": ".py",
   "mimetype": "text/x-python",
   "name": "python",
   "nbconvert_exporter": "python",
   "pygments_lexer": "ipython3",
   "version": "3.12.1"
  }
 },
 "nbformat": 4,
 "nbformat_minor": 2
}
