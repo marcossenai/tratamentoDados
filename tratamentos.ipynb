{
 "cells": [
  {
   "cell_type": "code",
   "execution_count": 106,
   "metadata": {},
   "outputs": [
    {
     "name": "stdout",
     "output_type": "stream",
     "text": [
      "     Nome  Idade          Cidade  Salário\n",
      "0    João   28.0       São Paulo   2500.0\n",
      "1   Maria    NaN  Rio de Janeiro   4500.0\n",
      "2    José   35.0             NaN      NaN\n",
      "3     Ana   22.0       Salavador   5000.0\n",
      "4   Pedro    NaN    Porto Alegre   4800.0\n",
      "5     Ana   22.0       Salavador   5000.0\n",
      "6  tobias   22.0       são paulo   5000.0\n",
      "7  carlos   22.0    porto alegre   5000.0\n"
     ]
    }
   ],
   "source": [
    "import pandas as pd\n",
    "\n",
    "df = pd.read_excel('dadosAusentes.xlsx')\n",
    "print(df)"
   ]
  },
  {
   "cell_type": "code",
   "execution_count": 107,
   "metadata": {},
   "outputs": [
    {
     "name": "stdout",
     "output_type": "stream",
     "text": [
      "     Nome  Idade          Cidade  Salário    nome\n",
      "0    João   28.0       São Paulo   2500.0    João\n",
      "1   Maria    NaN  Rio De Janeiro   4500.0   Maria\n",
      "2    José   35.0             NaN      NaN    José\n",
      "3     Ana   22.0       Salavador   5000.0     Ana\n",
      "4   Pedro    NaN    Porto Alegre   4800.0   Pedro\n",
      "5     Ana   22.0       Salavador   5000.0     Ana\n",
      "6  tobias   22.0       São Paulo   5000.0  Tobias\n",
      "7  carlos   22.0    Porto Alegre   5000.0  Carlos\n"
     ]
    }
   ],
   "source": [
    "#corrigir errros de formatação (maiusculo, minusculo)\n",
    "df['Cidade'] = df['Cidade'].str.title()\n",
    "df['nome'] = df['Nome'].str.capitalize()\n",
    "\n",
    "print(df)"
   ]
  },
  {
   "cell_type": "code",
   "execution_count": 108,
   "metadata": {},
   "outputs": [
    {
     "name": "stdout",
     "output_type": "stream",
     "text": [
      "     Nome  Idade          Cidade  Salário    nome\n",
      "0    João   28.0       São Paulo   2500.0    João\n",
      "1   Maria    NaN  Rio De Janeiro   4500.0   Maria\n",
      "2    José   35.0             NaN      NaN    José\n",
      "3     Ana   22.0       Salavador   5000.0     Ana\n",
      "4   Pedro    NaN    Porto Alegre   4800.0   Pedro\n",
      "5     Ana   22.0       Salavador   5000.0     Ana\n",
      "6  tobias   22.0       São Paulo   5000.0  Tobias\n",
      "7  carlos   22.0    Porto Alegre   5000.0  Carlos\n"
     ]
    }
   ],
   "source": [
    "#Substituir de valores categóricos: sao paulo, sp, rj\n",
    "df['Cidade'].str.lower().replace({'são paulo': \"SP\", 'rio de janeiro': 'RJ', 'rj': 'RJ'})\n",
    "print(df)"
   ]
  },
  {
   "cell_type": "code",
   "execution_count": 109,
   "metadata": {},
   "outputs": [
    {
     "name": "stdout",
     "output_type": "stream",
     "text": [
      "['Nome', 'Cidade', 'nome']\n"
     ]
    }
   ],
   "source": [
    "#Identificar os tipos de dados das colunas\n",
    "coluna_string = df.select_dtypes(include=['string', 'object']).columns.tolist()\n",
    "print(coluna_string)"
   ]
  },
  {
   "cell_type": "code",
   "execution_count": 110,
   "metadata": {},
   "outputs": [
    {
     "name": "stdout",
     "output_type": "stream",
     "text": [
      "['Idade', 'Salário']\n"
     ]
    }
   ],
   "source": [
    "#Identificar os tipos de dados das colunas de float\n",
    "coluna_float = df.select_dtypes(include=['float']).columns.tolist()\n",
    "print(coluna_float)"
   ]
  },
  {
   "cell_type": "code",
   "execution_count": 111,
   "metadata": {},
   "outputs": [
    {
     "name": "stdout",
     "output_type": "stream",
     "text": [
      "     Nome      Idade          Cidade  Salário    nome\n",
      "0    João  28.000000       São Paulo   2500.0    João\n",
      "1   Maria  25.166667  Rio De Janeiro   4500.0   Maria\n",
      "2    José  35.000000             NaN      NaN    José\n",
      "3     Ana  22.000000       Salavador   5000.0     Ana\n",
      "4   Pedro  25.166667    Porto Alegre   4800.0   Pedro\n",
      "5     Ana  22.000000       Salavador   5000.0     Ana\n",
      "6  tobias  22.000000       São Paulo   5000.0  Tobias\n",
      "7  carlos  22.000000    Porto Alegre   5000.0  Carlos\n"
     ]
    },
    {
     "name": "stderr",
     "output_type": "stream",
     "text": [
      "C:\\Users\\48434487888\\AppData\\Local\\Temp\\ipykernel_14152\\2891120879.py:2: FutureWarning: A value is trying to be set on a copy of a DataFrame or Series through chained assignment using an inplace method.\n",
      "The behavior will change in pandas 3.0. This inplace method will never work because the intermediate object on which we are setting values always behaves as a copy.\n",
      "\n",
      "For example, when doing 'df[col].method(value, inplace=True)', try using 'df.method({col: value}, inplace=True)' or df[col] = df[col].method(value) instead, to perform the operation inplace on the original object.\n",
      "\n",
      "\n",
      "  df['Idade'].fillna(df['Idade'].mean(), inplace=True)\n"
     ]
    }
   ],
   "source": [
    "#Substituir as idades ausentes plea média\n",
    "df['Idade'].fillna(df['Idade'].mean(), inplace=True)\n",
    "print(df)"
   ]
  },
  {
   "cell_type": "code",
   "execution_count": 112,
   "metadata": {},
   "outputs": [
    {
     "name": "stdout",
     "output_type": "stream",
     "text": [
      "     Nome  Idade          Cidade  Salário    nome\n",
      "0    João     28       São Paulo   2500.0    João\n",
      "1   Maria     25  Rio De Janeiro   4500.0   Maria\n",
      "2    José     35             NaN      NaN    José\n",
      "3     Ana     22       Salavador   5000.0     Ana\n",
      "4   Pedro     25    Porto Alegre   4800.0   Pedro\n",
      "5     Ana     22       Salavador   5000.0     Ana\n",
      "6  tobias     22       São Paulo   5000.0  Tobias\n",
      "7  carlos     22    Porto Alegre   5000.0  Carlos\n"
     ]
    }
   ],
   "source": [
    "#Converter os dados para int\n",
    "df['Idade'] = df['Idade'].astype(int)\n",
    "print(df)"
   ]
  },
  {
   "cell_type": "code",
   "execution_count": 113,
   "metadata": {},
   "outputs": [],
   "source": [
    "# #Pega o valor de cima\n",
    "# df['Idade'] = df['Idade'].ffill\n",
    "\n",
    "# #Pega o valor de baixo\n",
    "# df['Idade'] = df['Idade'].bfill\n",
    "# display(df)"
   ]
  },
  {
   "cell_type": "code",
   "execution_count": 115,
   "metadata": {},
   "outputs": [
    {
     "name": "stdout",
     "output_type": "stream",
     "text": [
      "     Nome  Idade          Cidade  Salário    nome Faixa Etária\n",
      "0    João     28       São Paulo   2500.0    João       Adulto\n",
      "1   Maria     25  Rio De Janeiro   4500.0   Maria       Adulto\n",
      "2    José     35             NaN      NaN    José   Meia-idade\n",
      "3     Ana     22       Salavador   5000.0     Ana       Adulto\n",
      "4   Pedro     25    Porto Alegre   4800.0   Pedro       Adulto\n",
      "5     Ana     22       Salavador   5000.0     Ana       Adulto\n",
      "6  tobias     22       São Paulo   5000.0  Tobias       Adulto\n",
      "7  carlos     22    Porto Alegre   5000.0  Carlos       Adulto\n"
     ]
    }
   ],
   "source": [
    "# #Criar uma nova coluna: Faixa Etária\n",
    "df['Faixa Etária'] = pd.cut(df['Idade'], bins=[0, 18, 30, 50, 100], labels=['Jovem', 'Adulto', 'Meia-idade', 'Idoso'])\n",
    "print(df)\n",
    "\n"
   ]
  },
  {
   "cell_type": "code",
   "execution_count": 117,
   "metadata": {},
   "outputs": [
    {
     "data": {
      "text/html": [
       "<div>\n",
       "<style scoped>\n",
       "    .dataframe tbody tr th:only-of-type {\n",
       "        vertical-align: middle;\n",
       "    }\n",
       "\n",
       "    .dataframe tbody tr th {\n",
       "        vertical-align: top;\n",
       "    }\n",
       "\n",
       "    .dataframe thead th {\n",
       "        text-align: right;\n",
       "    }\n",
       "</style>\n",
       "<table border=\"1\" class=\"dataframe\">\n",
       "  <thead>\n",
       "    <tr style=\"text-align: right;\">\n",
       "      <th></th>\n",
       "      <th>Nome</th>\n",
       "      <th>Idade</th>\n",
       "      <th>Cidade</th>\n",
       "      <th>Salário</th>\n",
       "      <th>nome</th>\n",
       "      <th>Faixa Etária</th>\n",
       "    </tr>\n",
       "  </thead>\n",
       "  <tbody>\n",
       "    <tr>\n",
       "      <th>0</th>\n",
       "      <td>João</td>\n",
       "      <td>28</td>\n",
       "      <td>São Paulo</td>\n",
       "      <td>2500.0</td>\n",
       "      <td>João</td>\n",
       "      <td>Adulto</td>\n",
       "    </tr>\n",
       "    <tr>\n",
       "      <th>1</th>\n",
       "      <td>Maria</td>\n",
       "      <td>25</td>\n",
       "      <td>Rio De Janeiro</td>\n",
       "      <td>4500.0</td>\n",
       "      <td>Maria</td>\n",
       "      <td>Adulto</td>\n",
       "    </tr>\n",
       "    <tr>\n",
       "      <th>2</th>\n",
       "      <td>José</td>\n",
       "      <td>35</td>\n",
       "      <td>NaN</td>\n",
       "      <td>NaN</td>\n",
       "      <td>José</td>\n",
       "      <td>Meia-idade</td>\n",
       "    </tr>\n",
       "    <tr>\n",
       "      <th>3</th>\n",
       "      <td>Ana</td>\n",
       "      <td>22</td>\n",
       "      <td>Salavador</td>\n",
       "      <td>5000.0</td>\n",
       "      <td>Ana</td>\n",
       "      <td>Adulto</td>\n",
       "    </tr>\n",
       "    <tr>\n",
       "      <th>4</th>\n",
       "      <td>Pedro</td>\n",
       "      <td>25</td>\n",
       "      <td>Porto Alegre</td>\n",
       "      <td>4800.0</td>\n",
       "      <td>Pedro</td>\n",
       "      <td>Adulto</td>\n",
       "    </tr>\n",
       "    <tr>\n",
       "      <th>6</th>\n",
       "      <td>tobias</td>\n",
       "      <td>22</td>\n",
       "      <td>São Paulo</td>\n",
       "      <td>5000.0</td>\n",
       "      <td>Tobias</td>\n",
       "      <td>Adulto</td>\n",
       "    </tr>\n",
       "    <tr>\n",
       "      <th>7</th>\n",
       "      <td>carlos</td>\n",
       "      <td>22</td>\n",
       "      <td>Porto Alegre</td>\n",
       "      <td>5000.0</td>\n",
       "      <td>Carlos</td>\n",
       "      <td>Adulto</td>\n",
       "    </tr>\n",
       "  </tbody>\n",
       "</table>\n",
       "</div>"
      ],
      "text/plain": [
       "     Nome  Idade          Cidade  Salário    nome Faixa Etária\n",
       "0    João     28       São Paulo   2500.0    João       Adulto\n",
       "1   Maria     25  Rio De Janeiro   4500.0   Maria       Adulto\n",
       "2    José     35             NaN      NaN    José   Meia-idade\n",
       "3     Ana     22       Salavador   5000.0     Ana       Adulto\n",
       "4   Pedro     25    Porto Alegre   4800.0   Pedro       Adulto\n",
       "6  tobias     22       São Paulo   5000.0  Tobias       Adulto\n",
       "7  carlos     22    Porto Alegre   5000.0  Carlos       Adulto"
      ]
     },
     "metadata": {},
     "output_type": "display_data"
    }
   ],
   "source": [
    "#Remover duplicatas\n",
    "df = df.drop_duplicates(subset=['Nome'])\n",
    "display(df)"
   ]
  }
 ],
 "metadata": {
  "kernelspec": {
   "display_name": "Python 3",
   "language": "python",
   "name": "python3"
  },
  "language_info": {
   "codemirror_mode": {
    "name": "ipython",
    "version": 3
   },
   "file_extension": ".py",
   "mimetype": "text/x-python",
   "name": "python",
   "nbconvert_exporter": "python",
   "pygments_lexer": "ipython3",
   "version": "3.12.1"
  }
 },
 "nbformat": 4,
 "nbformat_minor": 2
}
