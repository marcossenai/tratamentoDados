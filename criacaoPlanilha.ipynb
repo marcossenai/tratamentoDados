{
 "cells": [
  {
   "cell_type": "code",
   "execution_count": 4,
   "metadata": {},
   "outputs": [],
   "source": [
    "import pandas as pd\n",
    "import numpy as np\n",
    "\n",
    "#CRIAR UM DATAFRAME COM ALGUNS DADOS FALTANDO\n",
    "\n",
    "data = {\n",
    "    \"Nome\": [\"João\", \"Maria\", \"José\", \"Ana\", \"Pedro\"],\n",
    "    \"Idade\": [28, np.nan, 35, 22, np.nan],\n",
    "    \"Cidade\": [\"São Paulo\", \"Rio de Janeiro\", np.nan, \"Salavador\", \"Porto Alegre\"],\n",
    "    \"Salário\": [2500, 4500, np.nan, 5000, 4800]\n",
    "\n",
    "}\n",
    "\n",
    "df = pd.DataFrame(data)\n",
    "\n",
    "arquivo = \"dadosAusentes.xlsx\"\n",
    "df.to_excel(arquivo, index=False)"
   ]
  }
 ],
 "metadata": {
  "kernelspec": {
   "display_name": "Python 3",
   "language": "python",
   "name": "python3"
  },
  "language_info": {
   "codemirror_mode": {
    "name": "ipython",
    "version": 3
   },
   "file_extension": ".py",
   "mimetype": "text/x-python",
   "name": "python",
   "nbconvert_exporter": "python",
   "pygments_lexer": "ipython3",
   "version": "3.12.1"
  }
 },
 "nbformat": 4,
 "nbformat_minor": 2
}
